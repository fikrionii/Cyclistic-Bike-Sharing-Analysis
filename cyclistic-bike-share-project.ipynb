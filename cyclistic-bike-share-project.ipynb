{
 "cells": [
  {
   "cell_type": "markdown",
   "id": "31a375a4",
   "metadata": {},
   "source": [
    "# Cyclistic Bike-Sharing Analysis\n",
    "\n",
    "**Alfikri Ramadhan - [LinkedIn](https://www.linkedin.com/in/alfikri-ramadhan/)**"
   ]
  },
  {
   "cell_type": "markdown",
   "id": "0047a7dc",
   "metadata": {},
   "source": [
    "<p align=\"center\">\n",
    "  <img src=\"fig/cyclistic_cover.jpg\" width=\"250\" height=\"250\" />"
   ]
  },
  {
   "cell_type": "markdown",
   "id": "e4a72767",
   "metadata": {},
   "source": [
    "## Introduction\n",
    "***\n",
    "\n",
    "### The Cyclistic Company\n",
    "\n",
    "Cyclistic is a bike-sharing company in Chicago, United States that features more than 5,800 bicycles and 600 docking stations. Cyclistic sets itself apart by also offering reclining bikes, hand tricycles, and cargo bikes, making bike-share more inclusive to people with disabilities and riders who can’t use a standard two-wheeled bike. Cyclistic users are more likely to ride for leisure, but the users also use them to commute to work each day.\n",
    "\n",
    "Until now, Cyclistic’s marketing strategy relied on building general awareness and appealing to broad consumer segments.\n",
    "One approach that helped make these things possible was the flexibility of its pricing plans: single-ride passes, full-day passes, and annual memberships. Customers who purchase single-ride or full-day passes are referred to as casual riders. Customers who purchase annual memberships are Cyclistic members.\n",
    "\n",
    "Although the pricing flexibility helps Cyclistic attract more customers, Cyclistic believes that maximizing the number of annual members will be key to future growth. Rather than creating a marketing campaign that targets all-new customers, Cyclistic believes there is a very good chance to convert casual riders into members.\n",
    "\n",
    "### Problem Statement\n",
    "\n",
    "Convert casual riders into Cyclistic members.\n",
    "\n",
    "### Business Task\n",
    "\n",
    "- Analyze how casual riders and annual members behaves differently.\n",
    "- Support stakeholder to make data-driven decision-making to create campaign or strategies that attempt to convert casual riders into Cyclistic members."
   ]
  },
  {
   "cell_type": "markdown",
   "id": "caebad48",
   "metadata": {},
   "source": [
    "## The Dataset\n",
    "---\n",
    "\n",
    "We will use Cyclistic's historical trip data to analyze and identify trends. The dataset can be downloaded [here](https://divvy-tripdata.s3.amazonaws.com/index.html).\n",
    "\n",
    "The data has been made available by Motivate International Inc. under this [license](https://www.divvybikes.com/data-license-agreement).\n",
    "\n",
    "The dataset we use covers 1 year of observation, from October 2021 to September 2022.\n",
    "\n",
    "| Columns | Description |\n",
    "| :- | :- |\n",
    "| ride_id | id for this ride |\n",
    "| rideable_type | type of bike being ride |\n",
    "| started_at | date and time the bike is started to use |\n",
    "| ended_at | date and time the bike is finished to use |\n",
    "| start_station_name | name of the ride starting station |\n",
    "| start_station_id | id of the ride starting station |\n",
    "| end_station_name | name of the ride ending station |\n",
    "| end_station_id | id of the ride ending station |\n",
    "| start_lat | latitude coordinate of the ride starting station |\n",
    "| start_lng | longitude coordinate of the ride starting station |\n",
    "| end_lat | latitude coordinate of the ride ending station |\n",
    "| end_lng | longitude coordinate of the ride ending station |\n",
    "| member_casual | membership type; `casual` for casual rider or `member` for annual membership rider |"
   ]
  },
  {
   "cell_type": "markdown",
   "id": "9fa3a1ba",
   "metadata": {},
   "source": [
    "## Import Library\n",
    "---"
   ]
  },
  {
   "cell_type": "code",
   "execution_count": 1,
   "id": "ab0ec0e0",
   "metadata": {},
   "outputs": [],
   "source": [
    "import numpy as np\n",
    "import pandas as pd\n",
    "import matplotlib.pyplot as plt\n",
    "import seaborn as sns\n",
    "\n",
    "from scipy import stats\n",
    "\n",
    "import datetime\n",
    "import calendar\n",
    "\n",
    "import glob\n",
    "\n",
    "import warnings\n",
    "warnings.filterwarnings(\"ignore\")"
   ]
  },
  {
   "cell_type": "markdown",
   "id": "12c9d5d9",
   "metadata": {},
   "source": [
    "## Load the Data\n",
    "---"
   ]
  },
  {
   "cell_type": "markdown",
   "id": "761f8dbb",
   "metadata": {},
   "source": [
    "Import and combine all dataset using `glob`"
   ]
  },
  {
   "cell_type": "code",
   "execution_count": 2,
   "id": "50a15c04",
   "metadata": {},
   "outputs": [],
   "source": [
    "trip_files = glob.glob(\"divvy_trip_dataset/202***-divvy-tripdata.csv\")\n",
    "df_list = []\n",
    "for filename in trip_files:\n",
    "    data = pd.read_csv(filename)\n",
    "    df_list.append(data)\n",
    "\n",
    "df = pd.concat(df_list).reset_index()\n",
    "df = df.drop(['index'], axis=1)"
   ]
  },
  {
   "cell_type": "markdown",
   "id": "6c0b3572",
   "metadata": {},
   "source": [
    "## Data Overview\n",
    "---"
   ]
  },
  {
   "cell_type": "code",
   "execution_count": 3,
   "id": "e5005670",
   "metadata": {},
   "outputs": [
    {
     "data": {
      "text/html": [
       "<div>\n",
       "<style scoped>\n",
       "    .dataframe tbody tr th:only-of-type {\n",
       "        vertical-align: middle;\n",
       "    }\n",
       "\n",
       "    .dataframe tbody tr th {\n",
       "        vertical-align: top;\n",
       "    }\n",
       "\n",
       "    .dataframe thead th {\n",
       "        text-align: right;\n",
       "    }\n",
       "</style>\n",
       "<table border=\"1\" class=\"dataframe\">\n",
       "  <thead>\n",
       "    <tr style=\"text-align: right;\">\n",
       "      <th></th>\n",
       "      <th>ride_id</th>\n",
       "      <th>rideable_type</th>\n",
       "      <th>started_at</th>\n",
       "      <th>ended_at</th>\n",
       "      <th>start_station_name</th>\n",
       "      <th>start_station_id</th>\n",
       "      <th>end_station_name</th>\n",
       "      <th>end_station_id</th>\n",
       "      <th>start_lat</th>\n",
       "      <th>start_lng</th>\n",
       "      <th>end_lat</th>\n",
       "      <th>end_lng</th>\n",
       "      <th>member_casual</th>\n",
       "    </tr>\n",
       "  </thead>\n",
       "  <tbody>\n",
       "    <tr>\n",
       "      <th>0</th>\n",
       "      <td>620BC6107255BF4C</td>\n",
       "      <td>electric_bike</td>\n",
       "      <td>2021-10-22 12:46:42</td>\n",
       "      <td>2021-10-22 12:49:50</td>\n",
       "      <td>Kingsbury St &amp; Kinzie St</td>\n",
       "      <td>KA1503000043</td>\n",
       "      <td>NaN</td>\n",
       "      <td>NaN</td>\n",
       "      <td>41.889186</td>\n",
       "      <td>-87.638495</td>\n",
       "      <td>41.89</td>\n",
       "      <td>-87.63</td>\n",
       "      <td>member</td>\n",
       "    </tr>\n",
       "    <tr>\n",
       "      <th>1</th>\n",
       "      <td>4471C70731AB2E45</td>\n",
       "      <td>electric_bike</td>\n",
       "      <td>2021-10-21 09:12:37</td>\n",
       "      <td>2021-10-21 09:14:14</td>\n",
       "      <td>NaN</td>\n",
       "      <td>NaN</td>\n",
       "      <td>NaN</td>\n",
       "      <td>NaN</td>\n",
       "      <td>41.930000</td>\n",
       "      <td>-87.700000</td>\n",
       "      <td>41.93</td>\n",
       "      <td>-87.71</td>\n",
       "      <td>member</td>\n",
       "    </tr>\n",
       "    <tr>\n",
       "      <th>2</th>\n",
       "      <td>26CA69D43D15EE14</td>\n",
       "      <td>electric_bike</td>\n",
       "      <td>2021-10-16 16:28:39</td>\n",
       "      <td>2021-10-16 16:36:26</td>\n",
       "      <td>NaN</td>\n",
       "      <td>NaN</td>\n",
       "      <td>NaN</td>\n",
       "      <td>NaN</td>\n",
       "      <td>41.920000</td>\n",
       "      <td>-87.700000</td>\n",
       "      <td>41.94</td>\n",
       "      <td>-87.72</td>\n",
       "      <td>member</td>\n",
       "    </tr>\n",
       "    <tr>\n",
       "      <th>3</th>\n",
       "      <td>362947F0437E1514</td>\n",
       "      <td>electric_bike</td>\n",
       "      <td>2021-10-16 16:17:48</td>\n",
       "      <td>2021-10-16 16:19:03</td>\n",
       "      <td>NaN</td>\n",
       "      <td>NaN</td>\n",
       "      <td>NaN</td>\n",
       "      <td>NaN</td>\n",
       "      <td>41.920000</td>\n",
       "      <td>-87.690000</td>\n",
       "      <td>41.92</td>\n",
       "      <td>-87.69</td>\n",
       "      <td>member</td>\n",
       "    </tr>\n",
       "    <tr>\n",
       "      <th>4</th>\n",
       "      <td>BB731DE2F2EC51C5</td>\n",
       "      <td>electric_bike</td>\n",
       "      <td>2021-10-20 23:17:54</td>\n",
       "      <td>2021-10-20 23:26:10</td>\n",
       "      <td>NaN</td>\n",
       "      <td>NaN</td>\n",
       "      <td>NaN</td>\n",
       "      <td>NaN</td>\n",
       "      <td>41.890000</td>\n",
       "      <td>-87.710000</td>\n",
       "      <td>41.89</td>\n",
       "      <td>-87.69</td>\n",
       "      <td>member</td>\n",
       "    </tr>\n",
       "  </tbody>\n",
       "</table>\n",
       "</div>"
      ],
      "text/plain": [
       "            ride_id  rideable_type           started_at             ended_at  \\\n",
       "0  620BC6107255BF4C  electric_bike  2021-10-22 12:46:42  2021-10-22 12:49:50   \n",
       "1  4471C70731AB2E45  electric_bike  2021-10-21 09:12:37  2021-10-21 09:14:14   \n",
       "2  26CA69D43D15EE14  electric_bike  2021-10-16 16:28:39  2021-10-16 16:36:26   \n",
       "3  362947F0437E1514  electric_bike  2021-10-16 16:17:48  2021-10-16 16:19:03   \n",
       "4  BB731DE2F2EC51C5  electric_bike  2021-10-20 23:17:54  2021-10-20 23:26:10   \n",
       "\n",
       "         start_station_name start_station_id end_station_name end_station_id  \\\n",
       "0  Kingsbury St & Kinzie St     KA1503000043              NaN            NaN   \n",
       "1                       NaN              NaN              NaN            NaN   \n",
       "2                       NaN              NaN              NaN            NaN   \n",
       "3                       NaN              NaN              NaN            NaN   \n",
       "4                       NaN              NaN              NaN            NaN   \n",
       "\n",
       "   start_lat  start_lng  end_lat  end_lng member_casual  \n",
       "0  41.889186 -87.638495    41.89   -87.63        member  \n",
       "1  41.930000 -87.700000    41.93   -87.71        member  \n",
       "2  41.920000 -87.700000    41.94   -87.72        member  \n",
       "3  41.920000 -87.690000    41.92   -87.69        member  \n",
       "4  41.890000 -87.710000    41.89   -87.69        member  "
      ]
     },
     "execution_count": 3,
     "metadata": {},
     "output_type": "execute_result"
    }
   ],
   "source": [
    "df.head()"
   ]
  },
  {
   "cell_type": "code",
   "execution_count": 4,
   "id": "314a9141",
   "metadata": {},
   "outputs": [
    {
     "data": {
      "text/plain": [
       "Index(['ride_id', 'rideable_type', 'started_at', 'ended_at',\n",
       "       'start_station_name', 'start_station_id', 'end_station_name',\n",
       "       'end_station_id', 'start_lat', 'start_lng', 'end_lat', 'end_lng',\n",
       "       'member_casual'],\n",
       "      dtype='object')"
      ]
     },
     "execution_count": 4,
     "metadata": {},
     "output_type": "execute_result"
    }
   ],
   "source": [
    "df.columns"
   ]
  },
  {
   "cell_type": "code",
   "execution_count": 5,
   "id": "07ecc94f",
   "metadata": {},
   "outputs": [
    {
     "name": "stdout",
     "output_type": "stream",
     "text": [
      "Number of rows: 5828235\n"
     ]
    }
   ],
   "source": [
    "print(f\"Number of rows: {df.shape[0]}\")"
   ]
  },
  {
   "cell_type": "code",
   "execution_count": 6,
   "id": "ea07e32e",
   "metadata": {
    "scrolled": false
   },
   "outputs": [
    {
     "name": "stdout",
     "output_type": "stream",
     "text": [
      "<class 'pandas.core.frame.DataFrame'>\n",
      "RangeIndex: 5828235 entries, 0 to 5828234\n",
      "Data columns (total 13 columns):\n",
      " #   Column              Dtype  \n",
      "---  ------              -----  \n",
      " 0   ride_id             object \n",
      " 1   rideable_type       object \n",
      " 2   started_at          object \n",
      " 3   ended_at            object \n",
      " 4   start_station_name  object \n",
      " 5   start_station_id    object \n",
      " 6   end_station_name    object \n",
      " 7   end_station_id      object \n",
      " 8   start_lat           float64\n",
      " 9   start_lng           float64\n",
      " 10  end_lat             float64\n",
      " 11  end_lng             float64\n",
      " 12  member_casual       object \n",
      "dtypes: float64(4), object(9)\n",
      "memory usage: 578.1+ MB\n"
     ]
    }
   ],
   "source": [
    "df.info()"
   ]
  },
  {
   "cell_type": "markdown",
   "id": "d26972a5",
   "metadata": {},
   "source": [
    "### Check for Missing Values"
   ]
  },
  {
   "cell_type": "code",
   "execution_count": 7,
   "id": "a840076f",
   "metadata": {},
   "outputs": [
    {
     "data": {
      "text/plain": [
       "ride_id                    0\n",
       "rideable_type              0\n",
       "started_at                 0\n",
       "ended_at                   0\n",
       "start_station_name    895032\n",
       "start_station_id      895032\n",
       "end_station_name      958227\n",
       "end_station_id        958227\n",
       "start_lat                  0\n",
       "start_lng                  0\n",
       "end_lat                 5844\n",
       "end_lng                 5844\n",
       "member_casual              0\n",
       "dtype: int64"
      ]
     },
     "execution_count": 7,
     "metadata": {},
     "output_type": "execute_result"
    }
   ],
   "source": [
    "df.isnull().sum()"
   ]
  },
  {
   "cell_type": "code",
   "execution_count": 8,
   "id": "8676c523",
   "metadata": {},
   "outputs": [],
   "source": [
    "percent_null = df.isnull().sum() * 100 / len(df)"
   ]
  },
  {
   "cell_type": "code",
   "execution_count": 9,
   "id": "5cb12d89",
   "metadata": {
    "scrolled": false
   },
   "outputs": [
    {
     "name": "stdout",
     "output_type": "stream",
     "text": [
      "ride_id                0.00\n",
      "rideable_type          0.00\n",
      "started_at             0.00\n",
      "ended_at               0.00\n",
      "start_station_name    15.36\n",
      "start_station_id      15.36\n",
      "end_station_name      16.44\n",
      "end_station_id        16.44\n",
      "start_lat              0.00\n",
      "start_lng              0.00\n",
      "end_lat                0.10\n",
      "end_lng                0.10\n",
      "member_casual          0.00\n",
      "dtype: float64\n"
     ]
    }
   ],
   "source": [
    "print(round(percent_null, 2))"
   ]
  },
  {
   "cell_type": "markdown",
   "id": "afb38dcd",
   "metadata": {},
   "source": [
    "The column `start_station_name`, `start_station_id`, `end_station_name`, and `end_station_id` have quite many missing values, which is over 15%. There are also some missing values in `end_lat` and `end_lng`, though it is much smaller at 0.1%."
   ]
  },
  {
   "cell_type": "markdown",
   "id": "c4edc3c8",
   "metadata": {},
   "source": [
    "### Handle Missing Values"
   ]
  },
  {
   "cell_type": "code",
   "execution_count": 10,
   "id": "3e4d88f4",
   "metadata": {},
   "outputs": [],
   "source": [
    "df_raw = df.copy()"
   ]
  },
  {
   "cell_type": "markdown",
   "id": "f4efd87d",
   "metadata": {},
   "source": [
    "While the percentage of missing values in station columns are moderately high, we will drop these columns since we won't be using them in our analysis."
   ]
  },
  {
   "cell_type": "code",
   "execution_count": 11,
   "id": "3bd53558",
   "metadata": {},
   "outputs": [],
   "source": [
    "drop_col = ['start_station_name', 'start_station_id', 'end_station_name', 'end_station_id']\n",
    "df = df.drop(drop_col, axis=1)"
   ]
  },
  {
   "cell_type": "code",
   "execution_count": 12,
   "id": "fa6839ae",
   "metadata": {},
   "outputs": [],
   "source": [
    "# fill missing data with mode\n",
    "df['end_lat'].fillna(df['end_lat'].mode()[0], inplace=True)\n",
    "df['end_lng'].fillna(df['end_lng'].mode()[0], inplace=True)"
   ]
  },
  {
   "cell_type": "code",
   "execution_count": 13,
   "id": "078084e2",
   "metadata": {},
   "outputs": [],
   "source": [
    "percent_null_new = df.isnull().sum() * 100 / len(df)"
   ]
  },
  {
   "cell_type": "code",
   "execution_count": 14,
   "id": "8e2de067",
   "metadata": {},
   "outputs": [
    {
     "name": "stdout",
     "output_type": "stream",
     "text": [
      "ride_id          0.0\n",
      "rideable_type    0.0\n",
      "started_at       0.0\n",
      "ended_at         0.0\n",
      "start_lat        0.0\n",
      "start_lng        0.0\n",
      "end_lat          0.0\n",
      "end_lng          0.0\n",
      "member_casual    0.0\n",
      "dtype: float64\n"
     ]
    }
   ],
   "source": [
    "print(round(percent_null_new, 2))"
   ]
  },
  {
   "cell_type": "markdown",
   "id": "316206a5",
   "metadata": {},
   "source": [
    "### Check Duplicated Values"
   ]
  },
  {
   "cell_type": "code",
   "execution_count": 15,
   "id": "d201168c",
   "metadata": {
    "scrolled": true
   },
   "outputs": [
    {
     "data": {
      "text/plain": [
       "False    5828235\n",
       "dtype: int64"
      ]
     },
     "execution_count": 15,
     "metadata": {},
     "output_type": "execute_result"
    }
   ],
   "source": [
    "df.duplicated().value_counts()"
   ]
  },
  {
   "cell_type": "markdown",
   "id": "704a6da4",
   "metadata": {},
   "source": [
    "There is no duplicated value in our dataset"
   ]
  },
  {
   "cell_type": "markdown",
   "id": "ed559281",
   "metadata": {},
   "source": [
    "### Statistical Summary"
   ]
  },
  {
   "cell_type": "markdown",
   "id": "a4257428",
   "metadata": {},
   "source": [
    "Since the only numerical label in our dataset is location coordinate which can't be summarized in statistical value, we will only view the statistical summary of categorical labels."
   ]
  },
  {
   "cell_type": "code",
   "execution_count": 16,
   "id": "417e91f4",
   "metadata": {},
   "outputs": [],
   "source": [
    "# separate the object column\n",
    "cat_col = []\n",
    "\n",
    "for col in df.columns:\n",
    "    if df[col].dtype == 'object':\n",
    "        cat_col.append(col)"
   ]
  },
  {
   "cell_type": "code",
   "execution_count": 17,
   "id": "6a3f59e6",
   "metadata": {
    "scrolled": true
   },
   "outputs": [
    {
     "data": {
      "text/html": [
       "<div>\n",
       "<style scoped>\n",
       "    .dataframe tbody tr th:only-of-type {\n",
       "        vertical-align: middle;\n",
       "    }\n",
       "\n",
       "    .dataframe tbody tr th {\n",
       "        vertical-align: top;\n",
       "    }\n",
       "\n",
       "    .dataframe thead th {\n",
       "        text-align: right;\n",
       "    }\n",
       "</style>\n",
       "<table border=\"1\" class=\"dataframe\">\n",
       "  <thead>\n",
       "    <tr style=\"text-align: right;\">\n",
       "      <th></th>\n",
       "      <th>ride_id</th>\n",
       "      <th>rideable_type</th>\n",
       "      <th>started_at</th>\n",
       "      <th>ended_at</th>\n",
       "      <th>member_casual</th>\n",
       "    </tr>\n",
       "  </thead>\n",
       "  <tbody>\n",
       "    <tr>\n",
       "      <th>count</th>\n",
       "      <td>5828235</td>\n",
       "      <td>5828235</td>\n",
       "      <td>5828235</td>\n",
       "      <td>5828235</td>\n",
       "      <td>5828235</td>\n",
       "    </tr>\n",
       "    <tr>\n",
       "      <th>unique</th>\n",
       "      <td>5828235</td>\n",
       "      <td>3</td>\n",
       "      <td>4875181</td>\n",
       "      <td>4884765</td>\n",
       "      <td>2</td>\n",
       "    </tr>\n",
       "    <tr>\n",
       "      <th>top</th>\n",
       "      <td>620BC6107255BF4C</td>\n",
       "      <td>electric_bike</td>\n",
       "      <td>2022-05-30 13:05:15</td>\n",
       "      <td>2022-08-22 12:47:49</td>\n",
       "      <td>member</td>\n",
       "    </tr>\n",
       "    <tr>\n",
       "      <th>freq</th>\n",
       "      <td>1</td>\n",
       "      <td>2895244</td>\n",
       "      <td>9</td>\n",
       "      <td>20</td>\n",
       "      <td>3426949</td>\n",
       "    </tr>\n",
       "  </tbody>\n",
       "</table>\n",
       "</div>"
      ],
      "text/plain": [
       "                 ride_id  rideable_type           started_at  \\\n",
       "count            5828235        5828235              5828235   \n",
       "unique           5828235              3              4875181   \n",
       "top     620BC6107255BF4C  electric_bike  2022-05-30 13:05:15   \n",
       "freq                   1        2895244                    9   \n",
       "\n",
       "                   ended_at member_casual  \n",
       "count               5828235       5828235  \n",
       "unique              4884765             2  \n",
       "top     2022-08-22 12:47:49        member  \n",
       "freq                     20       3426949  "
      ]
     },
     "execution_count": 17,
     "metadata": {},
     "output_type": "execute_result"
    }
   ],
   "source": [
    "df[cat_col].describe()"
   ]
  },
  {
   "cell_type": "markdown",
   "id": "c3de62e2",
   "metadata": {},
   "source": [
    "- There are 3 types of rideable_type or bike type, where the most used type is electric bike.\n",
    "- Most of our customer purchased annual membership."
   ]
  },
  {
   "cell_type": "markdown",
   "id": "03b9ae13",
   "metadata": {},
   "source": [
    "## Data Analysis and Visualization\n",
    "---\n",
    "### Number of ride by bike types"
   ]
  },
  {
   "cell_type": "code",
   "execution_count": 18,
   "id": "147805a1",
   "metadata": {},
   "outputs": [
    {
     "data": {
      "image/png": "[encoded data removed]",
      "text/plain": [
       "<Figure size 1080x432 with 2 Axes>"
      ]
     },
     "metadata": {
      "needs_background": "light"
     },
     "output_type": "display_data"
    }
   ],
   "source": [
    "fig, axes = plt.subplots(1, 2, figsize=(15,6))\n",
    "axes[0] = sns.countplot(ax=axes[0], x='rideable_type', data=df)\n",
    "axes[1] = sns.countplot(ax=axes[1], x='rideable_type', data=df, hue='member_casual')\n",
    "plt.show()"
   ]
  },
  {
   "cell_type": "code",
   "execution_count": 19,
   "id": "24c3ebab",
   "metadata": {},
   "outputs": [
    {
     "data": {
      "text/html": [
       "<div>\n",
       "<style scoped>\n",
       "    .dataframe tbody tr th:only-of-type {\n",
       "        vertical-align: middle;\n",
       "    }\n",
       "\n",
       "    .dataframe tbody tr th {\n",
       "        vertical-align: top;\n",
       "    }\n",
       "\n",
       "    .dataframe thead th {\n",
       "        text-align: right;\n",
       "    }\n",
       "</style>\n",
       "<table border=\"1\" class=\"dataframe\">\n",
       "  <thead>\n",
       "    <tr style=\"text-align: right;\">\n",
       "      <th></th>\n",
       "      <th>rideable_type</th>\n",
       "      <th>ride_count</th>\n",
       "    </tr>\n",
       "  </thead>\n",
       "  <tbody>\n",
       "    <tr>\n",
       "      <th>0</th>\n",
       "      <td>classic_bike</td>\n",
       "      <td>2740516</td>\n",
       "    </tr>\n",
       "    <tr>\n",
       "      <th>1</th>\n",
       "      <td>docked_bike</td>\n",
       "      <td>192475</td>\n",
       "    </tr>\n",
       "    <tr>\n",
       "      <th>2</th>\n",
       "      <td>electric_bike</td>\n",
       "      <td>2895244</td>\n",
       "    </tr>\n",
       "  </tbody>\n",
       "</table>\n",
       "</div>"
      ],
      "text/plain": [
       "   rideable_type  ride_count\n",
       "0   classic_bike     2740516\n",
       "1    docked_bike      192475\n",
       "2  electric_bike     2895244"
      ]
     },
     "execution_count": 19,
     "metadata": {},
     "output_type": "execute_result"
    }
   ],
   "source": [
    "bike_count = df.groupby('rideable_type', as_index=False)['ride_id'].count()\n",
    "bike_count = bike_count.rename(columns = {'ride_id' : 'ride_count'})\n",
    "bike_count"
   ]
  },
  {
   "cell_type": "code",
   "execution_count": 20,
   "id": "b397fdee",
   "metadata": {},
   "outputs": [
    {
     "data": {
      "image/png": "[encoded data removed]",
      "text/plain": [
       "<Figure size 432x288 with 1 Axes>"
      ]
     },
     "metadata": {},
     "output_type": "display_data"
    }
   ],
   "source": [
    "bike_type = ['classic_bike', 'docked_bike', 'electric_bike']\n",
    "ride_num = bike_count.ride_count\n",
    "\n",
    "plt.pie(ride_num, labels=bike_type, autopct='%0.1f%%')\n",
    "plt.axis('equal')\n",
    "plt.show()"
   ]
  },
  {
   "cell_type": "markdown",
   "id": "00ce512c",
   "metadata": {},
   "source": [
    "- Electric bike is the most used bike type in all rides, accounting to almost half of all total rides.\n",
    "- Member riders use classic bike more than electric bike. In the opposite, casual riders use electric bikes more than classic bike."
   ]
  },
  {
   "cell_type": "markdown",
   "id": "fb89cbe7",
   "metadata": {},
   "source": [
    "### Number of rides by membership type"
   ]
  },
  {
   "cell_type": "code",
   "execution_count": 21,
   "id": "8883e6e4",
   "metadata": {},
   "outputs": [
    {
     "data": {
      "text/html": [
       "<div>\n",
       "<style scoped>\n",
       "    .dataframe tbody tr th:only-of-type {\n",
       "        vertical-align: middle;\n",
       "    }\n",
       "\n",
       "    .dataframe tbody tr th {\n",
       "        vertical-align: top;\n",
       "    }\n",
       "\n",
       "    .dataframe thead th {\n",
       "        text-align: right;\n",
       "    }\n",
       "</style>\n",
       "<table border=\"1\" class=\"dataframe\">\n",
       "  <thead>\n",
       "    <tr style=\"text-align: right;\">\n",
       "      <th></th>\n",
       "      <th>member_casual</th>\n",
       "      <th>ride_count</th>\n",
       "    </tr>\n",
       "  </thead>\n",
       "  <tbody>\n",
       "    <tr>\n",
       "      <th>0</th>\n",
       "      <td>casual</td>\n",
       "      <td>2401286</td>\n",
       "    </tr>\n",
       "    <tr>\n",
       "      <th>1</th>\n",
       "      <td>member</td>\n",
       "      <td>3426949</td>\n",
       "    </tr>\n",
       "  </tbody>\n",
       "</table>\n",
       "</div>"
      ],
      "text/plain": [
       "  member_casual  ride_count\n",
       "0        casual     2401286\n",
       "1        member     3426949"
      ]
     },
     "execution_count": 21,
     "metadata": {},
     "output_type": "execute_result"
    }
   ],
   "source": [
    "member_count = df.groupby('member_casual', as_index=False)['ride_id'].count()\n",
    "member_count = member_count.rename(columns = {'ride_id' : 'ride_count'})\n",
    "member_count"
   ]
  },
  {
   "cell_type": "code",
   "execution_count": 22,
   "id": "a9f58773",
   "metadata": {},
   "outputs": [
    {
     "data": {
      "image/png": "[encoded data removed]",
      "text/plain": [
       "<Figure size 432x288 with 1 Axes>"
      ]
     },
     "metadata": {},
     "output_type": "display_data"
    }
   ],
   "source": [
    "member_type = ['casual', 'member']\n",
    "ride_num = member_count.ride_count\n",
    "\n",
    "plt.pie(ride_num, labels=member_type, autopct='%0.1f%%')\n",
    "plt.axis('equal')\n",
    "plt.show()"
   ]
  },
  {
   "cell_type": "markdown",
   "id": "8449b198",
   "metadata": {},
   "source": [
    "58.8% of riders who used the bike are member riders, while remaining 41.2% are casual riders."
   ]
  },
  {
   "cell_type": "markdown",
   "id": "94664ada",
   "metadata": {},
   "source": [
    "### Analysis of Date Time Column"
   ]
  },
  {
   "cell_type": "markdown",
   "id": "7131bcd5",
   "metadata": {},
   "source": [
    "In our dataset, the `started_at` and `ended_at` columns contains information about the date and time the bike is being used and returned. There are a lot of information we can extract from this column. Using those columns, we will create new columns below:\n",
    "- Month of the ride\n",
    "- Season of the ride\n",
    "- Day of the ride\n",
    "- Time/hour of the ride\n",
    "- Ride length (in minutes)"
   ]
  },
  {
   "cell_type": "code",
   "execution_count": 23,
   "id": "ef33a833",
   "metadata": {},
   "outputs": [
    {
     "data": {
      "text/html": [
       "<div>\n",
       "<style scoped>\n",
       "    .dataframe tbody tr th:only-of-type {\n",
       "        vertical-align: middle;\n",
       "    }\n",
       "\n",
       "    .dataframe tbody tr th {\n",
       "        vertical-align: top;\n",
       "    }\n",
       "\n",
       "    .dataframe thead th {\n",
       "        text-align: right;\n",
       "    }\n",
       "</style>\n",
       "<table border=\"1\" class=\"dataframe\">\n",
       "  <thead>\n",
       "    <tr style=\"text-align: right;\">\n",
       "      <th></th>\n",
       "      <th>ride_id</th>\n",
       "      <th>rideable_type</th>\n",
       "      <th>started_at</th>\n",
       "      <th>ended_at</th>\n",
       "      <th>start_lat</th>\n",
       "      <th>start_lng</th>\n",
       "      <th>end_lat</th>\n",
       "      <th>end_lng</th>\n",
       "      <th>member_casual</th>\n",
       "    </tr>\n",
       "  </thead>\n",
       "  <tbody>\n",
       "    <tr>\n",
       "      <th>0</th>\n",
       "      <td>620BC6107255BF4C</td>\n",
       "      <td>electric_bike</td>\n",
       "      <td>2021-10-22 12:46:42</td>\n",
       "      <td>2021-10-22 12:49:50</td>\n",
       "      <td>41.889186</td>\n",
       "      <td>-87.638495</td>\n",
       "      <td>41.89</td>\n",
       "      <td>-87.63</td>\n",
       "      <td>member</td>\n",
       "    </tr>\n",
       "    <tr>\n",
       "      <th>1</th>\n",
       "      <td>4471C70731AB2E45</td>\n",
       "      <td>electric_bike</td>\n",
       "      <td>2021-10-21 09:12:37</td>\n",
       "      <td>2021-10-21 09:14:14</td>\n",
       "      <td>41.930000</td>\n",
       "      <td>-87.700000</td>\n",
       "      <td>41.93</td>\n",
       "      <td>-87.71</td>\n",
       "      <td>member</td>\n",
       "    </tr>\n",
       "    <tr>\n",
       "      <th>2</th>\n",
       "      <td>26CA69D43D15EE14</td>\n",
       "      <td>electric_bike</td>\n",
       "      <td>2021-10-16 16:28:39</td>\n",
       "      <td>2021-10-16 16:36:26</td>\n",
       "      <td>41.920000</td>\n",
       "      <td>-87.700000</td>\n",
       "      <td>41.94</td>\n",
       "      <td>-87.72</td>\n",
       "      <td>member</td>\n",
       "    </tr>\n",
       "  </tbody>\n",
       "</table>\n",
       "</div>"
      ],
      "text/plain": [
       "            ride_id  rideable_type           started_at             ended_at  \\\n",
       "0  620BC6107255BF4C  electric_bike  2021-10-22 12:46:42  2021-10-22 12:49:50   \n",
       "1  4471C70731AB2E45  electric_bike  2021-10-21 09:12:37  2021-10-21 09:14:14   \n",
       "2  26CA69D43D15EE14  electric_bike  2021-10-16 16:28:39  2021-10-16 16:36:26   \n",
       "\n",
       "   start_lat  start_lng  end_lat  end_lng member_casual  \n",
       "0  41.889186 -87.638495    41.89   -87.63        member  \n",
       "1  41.930000 -87.700000    41.93   -87.71        member  \n",
       "2  41.920000 -87.700000    41.94   -87.72        member  "
      ]
     },
     "execution_count": 23,
     "metadata": {},
     "output_type": "execute_result"
    }
   ],
   "source": [
    "# check present column before new columns are created\n",
    "df.head(3)"
   ]
  },
  {
   "cell_type": "code",
   "execution_count": 24,
   "id": "268b1b67",
   "metadata": {},
   "outputs": [],
   "source": [
    "# convert `started_at` and `ended_at` columns to datetime data type\n",
    "df['started_at'] = pd.to_datetime(df['started_at'], format='%Y-%m-%d %H:%M:%S')\n",
    "df['ended_at'] = pd.to_datetime(df['ended_at'], format='%Y-%m-%d %H:%M:%S')"
   ]
  },
  {
   "cell_type": "code",
   "execution_count": 25,
   "id": "1d27a1df",
   "metadata": {},
   "outputs": [
    {
     "name": "stdout",
     "output_type": "stream",
     "text": [
      "<class 'pandas.core.frame.DataFrame'>\n",
      "RangeIndex: 5828235 entries, 0 to 5828234\n",
      "Data columns (total 9 columns):\n",
      " #   Column         Dtype         \n",
      "---  ------         -----         \n",
      " 0   ride_id        object        \n",
      " 1   rideable_type  object        \n",
      " 2   started_at     datetime64[ns]\n",
      " 3   ended_at       datetime64[ns]\n",
      " 4   start_lat      float64       \n",
      " 5   start_lng      float64       \n",
      " 6   end_lat        float64       \n",
      " 7   end_lng        float64       \n",
      " 8   member_casual  object        \n",
      "dtypes: datetime64[ns](2), float64(4), object(3)\n",
      "memory usage: 400.2+ MB\n"
     ]
    }
   ],
   "source": [
    "df.info()"
   ]
  },
  {
   "cell_type": "code",
   "execution_count": 26,
   "id": "464b335a",
   "metadata": {},
   "outputs": [],
   "source": [
    "# create the month column\n",
    "df['month'] =df['started_at'].dt.month_name()"
   ]
  },
  {
   "cell_type": "code",
   "execution_count": 27,
   "id": "ba6b4bc5",
   "metadata": {},
   "outputs": [],
   "source": [
    "# create the season column\n",
    "def find_season(month):\n",
    "    season_month = {\n",
    "            'December':'Winter', 'January':'Winter', 'February':'Winter',\n",
    "            'March':'Spring', 'April':'Spring', 'May':'Spring',\n",
    "            'June':'Summer', 'July':'Summer', 'August':'Summer',\n",
    "            'September':'Autumn', 'October':'Autumn', 'November':'Autumn'}\n",
    "    return season_month.get(month)\n",
    "\n",
    "season_list = []\n",
    "\n",
    "for month in df['month']:\n",
    "    season = find_season(month)\n",
    "    season_list.append(season)\n",
    "\n",
    "df['season'] = season_list"
   ]
  },
  {
   "cell_type": "code",
   "execution_count": 28,
   "id": "8baa5cae",
   "metadata": {},
   "outputs": [],
   "source": [
    "# create the day_of_week column\n",
    "df['day_of_week'] = df['started_at'].dt.day_name()"
   ]
  },
  {
   "cell_type": "code",
   "execution_count": 29,
   "id": "5c51d01f",
   "metadata": {},
   "outputs": [],
   "source": [
    "# create hour time of the ride \n",
    "df['time_hour'] = df['started_at'].dt.hour"
   ]
  },
  {
   "cell_type": "code",
   "execution_count": 30,
   "id": "03efcd9a",
   "metadata": {},
   "outputs": [],
   "source": [
    "# create ride duration of the ride\n",
    "df['ride_duration'] = (df['ended_at'] - df['started_at']).dt.total_seconds() / 60"
   ]
  },
  {
   "cell_type": "code",
   "execution_count": 31,
   "id": "b4dedb45",
   "metadata": {},
   "outputs": [
    {
     "data": {
      "text/plain": [
       "count    5.828235e+06\n",
       "mean     1.960198e+01\n",
       "std      1.698883e+02\n",
       "min     -1.035335e+04\n",
       "25%      5.933333e+00\n",
       "50%      1.048333e+01\n",
       "75%      1.885000e+01\n",
       "max      4.070502e+04\n",
       "Name: ride_duration, dtype: float64"
      ]
     },
     "execution_count": 31,
     "metadata": {},
     "output_type": "execute_result"
    }
   ],
   "source": [
    "# check statistical summary of ride_duration column\n",
    "df['ride_duration'].describe()"
   ]
  },
  {
   "cell_type": "code",
   "execution_count": 32,
   "id": "c47f6d21",
   "metadata": {
    "scrolled": true
   },
   "outputs": [
    {
     "data": {
      "text/plain": [
       "ride_id          108\n",
       "rideable_type    108\n",
       "started_at       108\n",
       "ended_at         108\n",
       "start_lat        108\n",
       "start_lng        108\n",
       "end_lat          108\n",
       "end_lng          108\n",
       "member_casual    108\n",
       "month            108\n",
       "season           108\n",
       "day_of_week      108\n",
       "time_hour        108\n",
       "ride_duration    108\n",
       "dtype: int64"
      ]
     },
     "execution_count": 32,
     "metadata": {},
     "output_type": "execute_result"
    }
   ],
   "source": [
    "df[df['ride_duration'] < 0].count()"
   ]
  },
  {
   "cell_type": "markdown",
   "id": "841ce798",
   "metadata": {},
   "source": [
    "After creating the `ride_duration` column, we notice there are duration that is below 0 minutes. As this value doesn't make sense, we will fitler the observation with ride duration above 0 seconds."
   ]
  },
  {
   "cell_type": "code",
   "execution_count": 33,
   "id": "c32230fb",
   "metadata": {},
   "outputs": [],
   "source": [
    "df = df[df['ride_duration'] > 0]"
   ]
  },
  {
   "cell_type": "markdown",
   "id": "0e106789",
   "metadata": {},
   "source": [
    "After creating several new columns, our dataset now will look like this:"
   ]
  },
  {
   "cell_type": "code",
   "execution_count": 34,
   "id": "80316f1d",
   "metadata": {},
   "outputs": [
    {
     "data": {
      "text/html": [
       "<div>\n",
       "<style scoped>\n",
       "    .dataframe tbody tr th:only-of-type {\n",
       "        vertical-align: middle;\n",
       "    }\n",
       "\n",
       "    .dataframe tbody tr th {\n",
       "        vertical-align: top;\n",
       "    }\n",
       "\n",
       "    .dataframe thead th {\n",
       "        text-align: right;\n",
       "    }\n",
       "</style>\n",
       "<table border=\"1\" class=\"dataframe\">\n",
       "  <thead>\n",
       "    <tr style=\"text-align: right;\">\n",
       "      <th></th>\n",
       "      <th>ride_id</th>\n",
       "      <th>rideable_type</th>\n",
       "      <th>started_at</th>\n",
       "      <th>ended_at</th>\n",
       "      <th>start_lat</th>\n",
       "      <th>start_lng</th>\n",
       "      <th>end_lat</th>\n",
       "      <th>end_lng</th>\n",
       "      <th>member_casual</th>\n",
       "      <th>month</th>\n",
       "      <th>season</th>\n",
       "      <th>day_of_week</th>\n",
       "      <th>time_hour</th>\n",
       "      <th>ride_duration</th>\n",
       "    </tr>\n",
       "  </thead>\n",
       "  <tbody>\n",
       "    <tr>\n",
       "      <th>1361106</th>\n",
       "      <td>5527AAFF8ECCF084</td>\n",
       "      <td>classic_bike</td>\n",
       "      <td>2022-02-25 10:34:07</td>\n",
       "      <td>2022-02-25 10:37:26</td>\n",
       "      <td>41.871737</td>\n",
       "      <td>-87.651030</td>\n",
       "      <td>41.871840</td>\n",
       "      <td>-87.646640</td>\n",
       "      <td>member</td>\n",
       "      <td>February</td>\n",
       "      <td>Winter</td>\n",
       "      <td>Friday</td>\n",
       "      <td>10</td>\n",
       "      <td>3.316667</td>\n",
       "    </tr>\n",
       "    <tr>\n",
       "      <th>4018715</th>\n",
       "      <td>6EA09D6DFB4AFD67</td>\n",
       "      <td>classic_bike</td>\n",
       "      <td>2022-07-03 12:46:11</td>\n",
       "      <td>2022-07-03 12:54:46</td>\n",
       "      <td>41.891578</td>\n",
       "      <td>-87.648384</td>\n",
       "      <td>41.909668</td>\n",
       "      <td>-87.648128</td>\n",
       "      <td>casual</td>\n",
       "      <td>July</td>\n",
       "      <td>Summer</td>\n",
       "      <td>Sunday</td>\n",
       "      <td>12</td>\n",
       "      <td>8.583333</td>\n",
       "    </tr>\n",
       "    <tr>\n",
       "      <th>5410475</th>\n",
       "      <td>4FFDF5D6F6D33843</td>\n",
       "      <td>electric_bike</td>\n",
       "      <td>2022-09-20 13:14:06</td>\n",
       "      <td>2022-09-20 13:17:00</td>\n",
       "      <td>41.925401</td>\n",
       "      <td>-87.665849</td>\n",
       "      <td>41.925602</td>\n",
       "      <td>-87.653708</td>\n",
       "      <td>casual</td>\n",
       "      <td>September</td>\n",
       "      <td>Autumn</td>\n",
       "      <td>Tuesday</td>\n",
       "      <td>13</td>\n",
       "      <td>2.900000</td>\n",
       "    </tr>\n",
       "    <tr>\n",
       "      <th>3897933</th>\n",
       "      <td>95380328FE124462</td>\n",
       "      <td>electric_bike</td>\n",
       "      <td>2022-07-31 14:50:45</td>\n",
       "      <td>2022-07-31 15:03:09</td>\n",
       "      <td>41.890000</td>\n",
       "      <td>-87.650000</td>\n",
       "      <td>41.896747</td>\n",
       "      <td>-87.635668</td>\n",
       "      <td>member</td>\n",
       "      <td>July</td>\n",
       "      <td>Summer</td>\n",
       "      <td>Sunday</td>\n",
       "      <td>14</td>\n",
       "      <td>12.400000</td>\n",
       "    </tr>\n",
       "    <tr>\n",
       "      <th>3167195</th>\n",
       "      <td>4DA5E29764F8D8A3</td>\n",
       "      <td>classic_bike</td>\n",
       "      <td>2022-06-11 20:21:57</td>\n",
       "      <td>2022-06-11 20:31:16</td>\n",
       "      <td>41.944540</td>\n",
       "      <td>-87.654678</td>\n",
       "      <td>41.939532</td>\n",
       "      <td>-87.671114</td>\n",
       "      <td>member</td>\n",
       "      <td>June</td>\n",
       "      <td>Summer</td>\n",
       "      <td>Saturday</td>\n",
       "      <td>20</td>\n",
       "      <td>9.316667</td>\n",
       "    </tr>\n",
       "  </tbody>\n",
       "</table>\n",
       "</div>"
      ],
      "text/plain": [
       "                  ride_id  rideable_type          started_at  \\\n",
       "1361106  5527AAFF8ECCF084   classic_bike 2022-02-25 10:34:07   \n",
       "4018715  6EA09D6DFB4AFD67   classic_bike 2022-07-03 12:46:11   \n",
       "5410475  4FFDF5D6F6D33843  electric_bike 2022-09-20 13:14:06   \n",
       "3897933  95380328FE124462  electric_bike 2022-07-31 14:50:45   \n",
       "3167195  4DA5E29764F8D8A3   classic_bike 2022-06-11 20:21:57   \n",
       "\n",
       "                   ended_at  start_lat  start_lng    end_lat    end_lng  \\\n",
       "1361106 2022-02-25 10:37:26  41.871737 -87.651030  41.871840 -87.646640   \n",
       "4018715 2022-07-03 12:54:46  41.891578 -87.648384  41.909668 -87.648128   \n",
       "5410475 2022-09-20 13:17:00  41.925401 -87.665849  41.925602 -87.653708   \n",
       "3897933 2022-07-31 15:03:09  41.890000 -87.650000  41.896747 -87.635668   \n",
       "3167195 2022-06-11 20:31:16  41.944540 -87.654678  41.939532 -87.671114   \n",
       "\n",
       "        member_casual      month  season day_of_week  time_hour  ride_duration  \n",
       "1361106        member   February  Winter      Friday         10       3.316667  \n",
       "4018715        casual       July  Summer      Sunday         12       8.583333  \n",
       "5410475        casual  September  Autumn     Tuesday         13       2.900000  \n",
       "3897933        member       July  Summer      Sunday         14      12.400000  \n",
       "3167195        member       June  Summer    Saturday         20       9.316667  "
      ]
     },
     "execution_count": 34,
     "metadata": {},
     "output_type": "execute_result"
    }
   ],
   "source": [
    "# check present column after new columns are created\n",
    "df.sample(5)"
   ]
  },
  {
   "cell_type": "code",
   "execution_count": 35,
   "id": "8f13d039",
   "metadata": {},
   "outputs": [
    {
     "name": "stdout",
     "output_type": "stream",
     "text": [
      "<class 'pandas.core.frame.DataFrame'>\n",
      "Int64Index: 5827664 entries, 0 to 5828234\n",
      "Data columns (total 14 columns):\n",
      " #   Column         Dtype         \n",
      "---  ------         -----         \n",
      " 0   ride_id        object        \n",
      " 1   rideable_type  object        \n",
      " 2   started_at     datetime64[ns]\n",
      " 3   ended_at       datetime64[ns]\n",
      " 4   start_lat      float64       \n",
      " 5   start_lng      float64       \n",
      " 6   end_lat        float64       \n",
      " 7   end_lng        float64       \n",
      " 8   member_casual  object        \n",
      " 9   month          object        \n",
      " 10  season         object        \n",
      " 11  day_of_week    object        \n",
      " 12  time_hour      int64         \n",
      " 13  ride_duration  float64       \n",
      "dtypes: datetime64[ns](2), float64(5), int64(1), object(6)\n",
      "memory usage: 666.9+ MB\n"
     ]
    }
   ],
   "source": [
    "df.info()"
   ]
  },
  {
   "cell_type": "markdown",
   "id": "82ddd64a",
   "metadata": {},
   "source": [
    "Let's continue our analysis."
   ]
  },
  {
   "cell_type": "markdown",
   "id": "1489e5cb",
   "metadata": {},
   "source": [
    "### Number of rides by month"
   ]
  },
  {
   "cell_type": "code",
   "execution_count": 36,
   "id": "09f1febb",
   "metadata": {},
   "outputs": [],
   "source": [
    "month_order = ['January', 'February', 'March', 'April', 'May', 'June',\n",
    "               'July', 'August', 'September', 'October', 'November', 'December']"
   ]
  },
  {
   "cell_type": "code",
   "execution_count": 37,
   "id": "ed99a75e",
   "metadata": {},
   "outputs": [
    {
     "data": {
      "image/png": "[encoded data removed]",
      "text/plain": [
       "<Figure size 1152x432 with 1 Axes>"
      ]
     },
     "metadata": {
      "needs_background": "light"
     },
     "output_type": "display_data"
    }
   ],
   "source": [
    "plt.figure(figsize=(16,6))\n",
    "sns.countplot(x='month', data=df, order=month_order, color='tab:blue')\n",
    "plt.show()"
   ]
  },
  {
   "cell_type": "code",
   "execution_count": 38,
   "id": "78f579f8",
   "metadata": {
    "scrolled": false
   },
   "outputs": [
    {
     "data": {
      "image/png": "[encoded data removed]",
      "text/plain": [
       "<Figure size 1152x432 with 1 Axes>"
      ]
     },
     "metadata": {
      "needs_background": "light"
     },
     "output_type": "display_data"
    }
   ],
   "source": [
    "plt.figure(figsize=(16,6))\n",
    "sns.countplot(x='month', data=df, order=month_order, hue='member_casual')\n",
    "plt.show()"
   ]
  },
  {
   "cell_type": "markdown",
   "id": "13a9135e",
   "metadata": {},
   "source": [
    "- Starting from May, the number of rides start to increase and reach its peak at July.\n",
    "- The highest number of rides occur in June, July, and August. During these months, summer season are taking place.\n",
    "- The lowest number of rides occur in January, February, and December, the months of winter.\n",
    "- Number of member riders are always higher than casual riders on all months of the year. In July though, the number of casual rides increase significantly and is almost equal to member riders."
   ]
  },
  {
   "cell_type": "markdown",
   "id": "d31cc52a",
   "metadata": {},
   "source": [
    "### Number of rides by season"
   ]
  },
  {
   "cell_type": "code",
   "execution_count": 39,
   "id": "eadc0d2a",
   "metadata": {},
   "outputs": [],
   "source": [
    "season_order = ['Winter', 'Spring', 'Summer', 'Autumn']"
   ]
  },
  {
   "cell_type": "code",
   "execution_count": 40,
   "id": "4630e5c9",
   "metadata": {},
   "outputs": [
    {
     "data": {
      "image/png": "[encoded data removed]",
      "text/plain": [
       "<Figure size 1080x432 with 2 Axes>"
      ]
     },
     "metadata": {
      "needs_background": "light"
     },
     "output_type": "display_data"
    }
   ],
   "source": [
    "fig, axes = plt.subplots(1, 2, figsize=(15,6))\n",
    "axes[0] = sns.countplot(ax=axes[0], x='season', order=season_order, data=df)\n",
    "axes[1] = sns.countplot(ax=axes[1], x='season', order=season_order, data=df, hue='member_casual')\n",
    "plt.show()"
   ]
  },
  {
   "cell_type": "markdown",
   "id": "d5d41b5f",
   "metadata": {},
   "source": [
    "- Based on season, the number of rides are highest during summer.\n",
    "- This is most likely contributed by the high increase of casual riders during summer. "
   ]
  },
  {
   "cell_type": "markdown",
   "id": "20686c80",
   "metadata": {},
   "source": [
    "### Number of rides by day of week"
   ]
  },
  {
   "cell_type": "code",
   "execution_count": 41,
   "id": "ba863e24",
   "metadata": {},
   "outputs": [],
   "source": [
    "day_order = ['Monday', 'Tuesday', 'Wednesday', 'Thursday', 'Friday', 'Saturday', 'Sunday']"
   ]
  },
  {
   "cell_type": "code",
   "execution_count": 42,
   "id": "f969d75b",
   "metadata": {},
   "outputs": [
    {
     "data": {
      "image/png": "[encoded data removed]",
      "text/plain": [
       "<Figure size 720x432 with 1 Axes>"
      ]
     },
     "metadata": {
      "needs_background": "light"
     },
     "output_type": "display_data"
    }
   ],
   "source": [
    "plt.figure(figsize=(10,6))\n",
    "sns.countplot(x='day_of_week', data=df, order=day_order, color='tab:blue')\n",
    "plt.show()"
   ]
  },
  {
   "cell_type": "code",
   "execution_count": 43,
   "id": "684353a9",
   "metadata": {},
   "outputs": [
    {
     "data": {
      "image/png": "[encoded data removed]",
      "text/plain": [
       "<Figure size 720x432 with 1 Axes>"
      ]
     },
     "metadata": {
      "needs_background": "light"
     },
     "output_type": "display_data"
    }
   ],
   "source": [
    "plt.figure(figsize=(10,6))\n",
    "sns.countplot(x='day_of_week', data=df, order=day_order, hue='member_casual')\n",
    "plt.show()"
   ]
  },
  {
   "cell_type": "markdown",
   "id": "0106416f",
   "metadata": {},
   "source": [
    "- The number of rides are moderately consistent during weekday. The number of rides increase in Saturday, where it reaches the peak of the week.\n",
    "- The number of rides by member riders are dominating during weekday. Then the number of rides gradually decrease after Tuesday, and it reaches its lowest on weekend.\n",
    "- The number of rides by casual riders are quite modest during weekday. However, during weekend the number of rides by casual riders increases quite significant. In the weekend, the number of rides by casual riders are even higher than those of member riders."
   ]
  },
  {
   "cell_type": "markdown",
   "id": "446b4569",
   "metadata": {},
   "source": [
    "### Number of rides by hour of day"
   ]
  },
  {
   "cell_type": "code",
   "execution_count": 44,
   "id": "e0b8e974",
   "metadata": {},
   "outputs": [
    {
     "data": {
      "text/html": [
       "<div>\n",
       "<style scoped>\n",
       "    .dataframe tbody tr th:only-of-type {\n",
       "        vertical-align: middle;\n",
       "    }\n",
       "\n",
       "    .dataframe tbody tr th {\n",
       "        vertical-align: top;\n",
       "    }\n",
       "\n",
       "    .dataframe thead th {\n",
       "        text-align: right;\n",
       "    }\n",
       "</style>\n",
       "<table border=\"1\" class=\"dataframe\">\n",
       "  <thead>\n",
       "    <tr style=\"text-align: right;\">\n",
       "      <th></th>\n",
       "      <th>time_hour</th>\n",
       "      <th>member_casual</th>\n",
       "      <th>ride_count</th>\n",
       "    </tr>\n",
       "  </thead>\n",
       "  <tbody>\n",
       "    <tr>\n",
       "      <th>0</th>\n",
       "      <td>0</td>\n",
       "      <td>casual</td>\n",
       "      <td>48581</td>\n",
       "    </tr>\n",
       "    <tr>\n",
       "      <th>1</th>\n",
       "      <td>0</td>\n",
       "      <td>member</td>\n",
       "      <td>36967</td>\n",
       "    </tr>\n",
       "    <tr>\n",
       "      <th>2</th>\n",
       "      <td>1</td>\n",
       "      <td>casual</td>\n",
       "      <td>31883</td>\n",
       "    </tr>\n",
       "    <tr>\n",
       "      <th>3</th>\n",
       "      <td>1</td>\n",
       "      <td>member</td>\n",
       "      <td>22958</td>\n",
       "    </tr>\n",
       "    <tr>\n",
       "      <th>4</th>\n",
       "      <td>2</td>\n",
       "      <td>casual</td>\n",
       "      <td>20256</td>\n",
       "    </tr>\n",
       "    <tr>\n",
       "      <th>5</th>\n",
       "      <td>2</td>\n",
       "      <td>member</td>\n",
       "      <td>13242</td>\n",
       "    </tr>\n",
       "    <tr>\n",
       "      <th>6</th>\n",
       "      <td>3</td>\n",
       "      <td>casual</td>\n",
       "      <td>11788</td>\n",
       "    </tr>\n",
       "    <tr>\n",
       "      <th>7</th>\n",
       "      <td>3</td>\n",
       "      <td>member</td>\n",
       "      <td>8129</td>\n",
       "    </tr>\n",
       "    <tr>\n",
       "      <th>8</th>\n",
       "      <td>4</td>\n",
       "      <td>casual</td>\n",
       "      <td>8244</td>\n",
       "    </tr>\n",
       "    <tr>\n",
       "      <th>9</th>\n",
       "      <td>4</td>\n",
       "      <td>member</td>\n",
       "      <td>9064</td>\n",
       "    </tr>\n",
       "    <tr>\n",
       "      <th>10</th>\n",
       "      <td>5</td>\n",
       "      <td>casual</td>\n",
       "      <td>12975</td>\n",
       "    </tr>\n",
       "    <tr>\n",
       "      <th>11</th>\n",
       "      <td>5</td>\n",
       "      <td>member</td>\n",
       "      <td>33815</td>\n",
       "    </tr>\n",
       "    <tr>\n",
       "      <th>12</th>\n",
       "      <td>6</td>\n",
       "      <td>casual</td>\n",
       "      <td>29433</td>\n",
       "    </tr>\n",
       "    <tr>\n",
       "      <th>13</th>\n",
       "      <td>6</td>\n",
       "      <td>member</td>\n",
       "      <td>92118</td>\n",
       "    </tr>\n",
       "    <tr>\n",
       "      <th>14</th>\n",
       "      <td>7</td>\n",
       "      <td>casual</td>\n",
       "      <td>52617</td>\n",
       "    </tr>\n",
       "    <tr>\n",
       "      <th>15</th>\n",
       "      <td>7</td>\n",
       "      <td>member</td>\n",
       "      <td>175820</td>\n",
       "    </tr>\n",
       "    <tr>\n",
       "      <th>16</th>\n",
       "      <td>8</td>\n",
       "      <td>casual</td>\n",
       "      <td>70303</td>\n",
       "    </tr>\n",
       "    <tr>\n",
       "      <th>17</th>\n",
       "      <td>8</td>\n",
       "      <td>member</td>\n",
       "      <td>207735</td>\n",
       "    </tr>\n",
       "    <tr>\n",
       "      <th>18</th>\n",
       "      <td>9</td>\n",
       "      <td>casual</td>\n",
       "      <td>75194</td>\n",
       "    </tr>\n",
       "    <tr>\n",
       "      <th>19</th>\n",
       "      <td>9</td>\n",
       "      <td>member</td>\n",
       "      <td>148763</td>\n",
       "    </tr>\n",
       "    <tr>\n",
       "      <th>20</th>\n",
       "      <td>10</td>\n",
       "      <td>casual</td>\n",
       "      <td>97908</td>\n",
       "    </tr>\n",
       "    <tr>\n",
       "      <th>21</th>\n",
       "      <td>10</td>\n",
       "      <td>member</td>\n",
       "      <td>141422</td>\n",
       "    </tr>\n",
       "    <tr>\n",
       "      <th>22</th>\n",
       "      <td>11</td>\n",
       "      <td>casual</td>\n",
       "      <td>127107</td>\n",
       "    </tr>\n",
       "    <tr>\n",
       "      <th>23</th>\n",
       "      <td>11</td>\n",
       "      <td>member</td>\n",
       "      <td>168600</td>\n",
       "    </tr>\n",
       "    <tr>\n",
       "      <th>24</th>\n",
       "      <td>12</td>\n",
       "      <td>casual</td>\n",
       "      <td>149609</td>\n",
       "    </tr>\n",
       "    <tr>\n",
       "      <th>25</th>\n",
       "      <td>12</td>\n",
       "      <td>member</td>\n",
       "      <td>194068</td>\n",
       "    </tr>\n",
       "    <tr>\n",
       "      <th>26</th>\n",
       "      <td>13</td>\n",
       "      <td>casual</td>\n",
       "      <td>156650</td>\n",
       "    </tr>\n",
       "    <tr>\n",
       "      <th>27</th>\n",
       "      <td>13</td>\n",
       "      <td>member</td>\n",
       "      <td>192456</td>\n",
       "    </tr>\n",
       "    <tr>\n",
       "      <th>28</th>\n",
       "      <td>14</td>\n",
       "      <td>casual</td>\n",
       "      <td>165521</td>\n",
       "    </tr>\n",
       "    <tr>\n",
       "      <th>29</th>\n",
       "      <td>14</td>\n",
       "      <td>member</td>\n",
       "      <td>190364</td>\n",
       "    </tr>\n",
       "    <tr>\n",
       "      <th>30</th>\n",
       "      <td>15</td>\n",
       "      <td>casual</td>\n",
       "      <td>182785</td>\n",
       "    </tr>\n",
       "    <tr>\n",
       "      <th>31</th>\n",
       "      <td>15</td>\n",
       "      <td>member</td>\n",
       "      <td>224797</td>\n",
       "    </tr>\n",
       "    <tr>\n",
       "      <th>32</th>\n",
       "      <td>16</td>\n",
       "      <td>casual</td>\n",
       "      <td>201284</td>\n",
       "    </tr>\n",
       "    <tr>\n",
       "      <th>33</th>\n",
       "      <td>16</td>\n",
       "      <td>member</td>\n",
       "      <td>295575</td>\n",
       "    </tr>\n",
       "    <tr>\n",
       "      <th>34</th>\n",
       "      <td>17</td>\n",
       "      <td>casual</td>\n",
       "      <td>224995</td>\n",
       "    </tr>\n",
       "    <tr>\n",
       "      <th>35</th>\n",
       "      <td>17</td>\n",
       "      <td>member</td>\n",
       "      <td>355720</td>\n",
       "    </tr>\n",
       "    <tr>\n",
       "      <th>36</th>\n",
       "      <td>18</td>\n",
       "      <td>casual</td>\n",
       "      <td>203594</td>\n",
       "    </tr>\n",
       "    <tr>\n",
       "      <th>37</th>\n",
       "      <td>18</td>\n",
       "      <td>member</td>\n",
       "      <td>292484</td>\n",
       "    </tr>\n",
       "    <tr>\n",
       "      <th>38</th>\n",
       "      <td>19</td>\n",
       "      <td>casual</td>\n",
       "      <td>157082</td>\n",
       "    </tr>\n",
       "    <tr>\n",
       "      <th>39</th>\n",
       "      <td>19</td>\n",
       "      <td>member</td>\n",
       "      <td>211107</td>\n",
       "    </tr>\n",
       "    <tr>\n",
       "      <th>40</th>\n",
       "      <td>20</td>\n",
       "      <td>casual</td>\n",
       "      <td>115752</td>\n",
       "    </tr>\n",
       "    <tr>\n",
       "      <th>41</th>\n",
       "      <td>20</td>\n",
       "      <td>member</td>\n",
       "      <td>148544</td>\n",
       "    </tr>\n",
       "    <tr>\n",
       "      <th>42</th>\n",
       "      <td>21</td>\n",
       "      <td>casual</td>\n",
       "      <td>99564</td>\n",
       "    </tr>\n",
       "    <tr>\n",
       "      <th>43</th>\n",
       "      <td>21</td>\n",
       "      <td>member</td>\n",
       "      <td>115480</td>\n",
       "    </tr>\n",
       "    <tr>\n",
       "      <th>44</th>\n",
       "      <td>22</td>\n",
       "      <td>casual</td>\n",
       "      <td>90280</td>\n",
       "    </tr>\n",
       "    <tr>\n",
       "      <th>45</th>\n",
       "      <td>22</td>\n",
       "      <td>member</td>\n",
       "      <td>88782</td>\n",
       "    </tr>\n",
       "    <tr>\n",
       "      <th>46</th>\n",
       "      <td>23</td>\n",
       "      <td>casual</td>\n",
       "      <td>67586</td>\n",
       "    </tr>\n",
       "    <tr>\n",
       "      <th>47</th>\n",
       "      <td>23</td>\n",
       "      <td>member</td>\n",
       "      <td>58663</td>\n",
       "    </tr>\n",
       "  </tbody>\n",
       "</table>\n",
       "</div>"
      ],
      "text/plain": [
       "    time_hour member_casual  ride_count\n",
       "0           0        casual       48581\n",
       "1           0        member       36967\n",
       "2           1        casual       31883\n",
       "3           1        member       22958\n",
       "4           2        casual       20256\n",
       "5           2        member       13242\n",
       "6           3        casual       11788\n",
       "7           3        member        8129\n",
       "8           4        casual        8244\n",
       "9           4        member        9064\n",
       "10          5        casual       12975\n",
       "11          5        member       33815\n",
       "12          6        casual       29433\n",
       "13          6        member       92118\n",
       "14          7        casual       52617\n",
       "15          7        member      175820\n",
       "16          8        casual       70303\n",
       "17          8        member      207735\n",
       "18          9        casual       75194\n",
       "19          9        member      148763\n",
       "20         10        casual       97908\n",
       "21         10        member      141422\n",
       "22         11        casual      127107\n",
       "23         11        member      168600\n",
       "24         12        casual      149609\n",
       "25         12        member      194068\n",
       "26         13        casual      156650\n",
       "27         13        member      192456\n",
       "28         14        casual      165521\n",
       "29         14        member      190364\n",
       "30         15        casual      182785\n",
       "31         15        member      224797\n",
       "32         16        casual      201284\n",
       "33         16        member      295575\n",
       "34         17        casual      224995\n",
       "35         17        member      355720\n",
       "36         18        casual      203594\n",
       "37         18        member      292484\n",
       "38         19        casual      157082\n",
       "39         19        member      211107\n",
       "40         20        casual      115752\n",
       "41         20        member      148544\n",
       "42         21        casual       99564\n",
       "43         21        member      115480\n",
       "44         22        casual       90280\n",
       "45         22        member       88782\n",
       "46         23        casual       67586\n",
       "47         23        member       58663"
      ]
     },
     "execution_count": 44,
     "metadata": {},
     "output_type": "execute_result"
    }
   ],
   "source": [
    "hour_ride = df.groupby(['time_hour','member_casual'], as_index=False)['ride_id'].count()\n",
    "hour_ride = hour_ride.rename(columns={'ride_id': 'ride_count'})\n",
    "hour_ride"
   ]
  },
  {
   "cell_type": "code",
   "execution_count": 45,
   "id": "a96a7383",
   "metadata": {},
   "outputs": [
    {
     "data": {
      "image/png": "[encoded data removed]",
      "text/plain": [
       "<Figure size 1152x432 with 1 Axes>"
      ]
     },
     "metadata": {
      "needs_background": "light"
     },
     "output_type": "display_data"
    }
   ],
   "source": [
    "plt.figure(figsize=(16, 6))\n",
    "sns.lineplot(x='time_hour', y='ride_count', hue='member_casual', data=hour_ride)\n",
    "x = np.arange(0, 24, 1)\n",
    "plt.xticks(x)\n",
    "plt.axvline(x=8, color='gray', linestyle='--')\n",
    "plt.axvline(x=17, color='gray', linestyle='--')\n",
    "plt.show();"
   ]
  },
  {
   "cell_type": "markdown",
   "id": "16922ee4",
   "metadata": {},
   "source": [
    "- For member riders, the number of rides reach its peaks during 8.00 at morning and 17.00 at afternoon.\n",
    "- Since we know that member riders mostly rent the bike during weekday, both 8.00 and 17.00 are expected to be \"rush hour\", or the time that people commuting to and from work, respectively.\n",
    "- For casual riders, the number of riders seems increases steadly starting at 5.00, then it reaches its peak at 17.00. "
   ]
  },
  {
   "cell_type": "markdown",
   "id": "686022ae",
   "metadata": {},
   "source": [
    "### Average Ride Duration by Member Type and Day of Week"
   ]
  },
  {
   "cell_type": "code",
   "execution_count": 46,
   "id": "cc09f6c3",
   "metadata": {},
   "outputs": [
    {
     "data": {
      "text/html": [
       "<div>\n",
       "<style scoped>\n",
       "    .dataframe tbody tr th:only-of-type {\n",
       "        vertical-align: middle;\n",
       "    }\n",
       "\n",
       "    .dataframe tbody tr th {\n",
       "        vertical-align: top;\n",
       "    }\n",
       "\n",
       "    .dataframe thead th {\n",
       "        text-align: right;\n",
       "    }\n",
       "</style>\n",
       "<table border=\"1\" class=\"dataframe\">\n",
       "  <thead>\n",
       "    <tr style=\"text-align: right;\">\n",
       "      <th></th>\n",
       "      <th>member_casual</th>\n",
       "      <th>day_of_week</th>\n",
       "      <th>ride_duration</th>\n",
       "    </tr>\n",
       "  </thead>\n",
       "  <tbody>\n",
       "    <tr>\n",
       "      <th>0</th>\n",
       "      <td>casual</td>\n",
       "      <td>Friday</td>\n",
       "      <td>28.014347</td>\n",
       "    </tr>\n",
       "    <tr>\n",
       "      <th>1</th>\n",
       "      <td>casual</td>\n",
       "      <td>Monday</td>\n",
       "      <td>29.730785</td>\n",
       "    </tr>\n",
       "    <tr>\n",
       "      <th>2</th>\n",
       "      <td>casual</td>\n",
       "      <td>Saturday</td>\n",
       "      <td>32.712920</td>\n",
       "    </tr>\n",
       "    <tr>\n",
       "      <th>3</th>\n",
       "      <td>casual</td>\n",
       "      <td>Sunday</td>\n",
       "      <td>34.367277</td>\n",
       "    </tr>\n",
       "    <tr>\n",
       "      <th>4</th>\n",
       "      <td>casual</td>\n",
       "      <td>Thursday</td>\n",
       "      <td>25.682099</td>\n",
       "    </tr>\n",
       "    <tr>\n",
       "      <th>5</th>\n",
       "      <td>casual</td>\n",
       "      <td>Tuesday</td>\n",
       "      <td>25.811654</td>\n",
       "    </tr>\n",
       "    <tr>\n",
       "      <th>6</th>\n",
       "      <td>casual</td>\n",
       "      <td>Wednesday</td>\n",
       "      <td>25.035897</td>\n",
       "    </tr>\n",
       "    <tr>\n",
       "      <th>7</th>\n",
       "      <td>member</td>\n",
       "      <td>Friday</td>\n",
       "      <td>12.529163</td>\n",
       "    </tr>\n",
       "    <tr>\n",
       "      <th>8</th>\n",
       "      <td>member</td>\n",
       "      <td>Monday</td>\n",
       "      <td>12.328443</td>\n",
       "    </tr>\n",
       "    <tr>\n",
       "      <th>9</th>\n",
       "      <td>member</td>\n",
       "      <td>Saturday</td>\n",
       "      <td>14.264705</td>\n",
       "    </tr>\n",
       "    <tr>\n",
       "      <th>10</th>\n",
       "      <td>member</td>\n",
       "      <td>Sunday</td>\n",
       "      <td>14.215684</td>\n",
       "    </tr>\n",
       "    <tr>\n",
       "      <th>11</th>\n",
       "      <td>member</td>\n",
       "      <td>Thursday</td>\n",
       "      <td>12.294917</td>\n",
       "    </tr>\n",
       "    <tr>\n",
       "      <th>12</th>\n",
       "      <td>member</td>\n",
       "      <td>Tuesday</td>\n",
       "      <td>12.163826</td>\n",
       "    </tr>\n",
       "    <tr>\n",
       "      <th>13</th>\n",
       "      <td>member</td>\n",
       "      <td>Wednesday</td>\n",
       "      <td>12.123457</td>\n",
       "    </tr>\n",
       "  </tbody>\n",
       "</table>\n",
       "</div>"
      ],
      "text/plain": [
       "   member_casual day_of_week  ride_duration\n",
       "0         casual      Friday      28.014347\n",
       "1         casual      Monday      29.730785\n",
       "2         casual    Saturday      32.712920\n",
       "3         casual      Sunday      34.367277\n",
       "4         casual    Thursday      25.682099\n",
       "5         casual     Tuesday      25.811654\n",
       "6         casual   Wednesday      25.035897\n",
       "7         member      Friday      12.529163\n",
       "8         member      Monday      12.328443\n",
       "9         member    Saturday      14.264705\n",
       "10        member      Sunday      14.215684\n",
       "11        member    Thursday      12.294917\n",
       "12        member     Tuesday      12.163826\n",
       "13        member   Wednesday      12.123457"
      ]
     },
     "execution_count": 46,
     "metadata": {},
     "output_type": "execute_result"
    }
   ],
   "source": [
    "avg_ride_duration = df.groupby(['member_casual', 'day_of_week'], as_index=False)['ride_duration'].mean()\n",
    "avg_ride_duration"
   ]
  },
  {
   "cell_type": "code",
   "execution_count": 47,
   "id": "adc252a2",
   "metadata": {},
   "outputs": [
    {
     "data": {
      "image/png": "[encoded data removed]",
      "text/plain": [
       "<Figure size 1080x432 with 2 Axes>"
      ]
     },
     "metadata": {
      "needs_background": "light"
     },
     "output_type": "display_data"
    }
   ],
   "source": [
    "fig, axes = plt.subplots(1, 2, figsize=(15,6))\n",
    "axes[0] = sns.barplot(ax=axes[0],\n",
    "                      x='member_casual', y='ride_duration',\n",
    "                      data=avg_ride_duration,\n",
    "                      ci=None)\n",
    "axes[1] = sns.barplot(ax=axes[1], \n",
    "                      x='day_of_week', y='ride_duration',\n",
    "                      data=avg_ride_duration,\n",
    "                      ci=None,\n",
    "                      hue='member_casual',\n",
    "                      order=day_order)\n",
    "plt.show()"
   ]
  },
  {
   "cell_type": "markdown",
   "id": "c474f8f4",
   "metadata": {},
   "source": [
    "- Average ride duration by casual riders are higher than member riders. On average, casual riders spent 25 - 35 minutes every day riding their bike. Member riders spent 12 - 15 minutes on average every day.\n",
    "- The ride duration of member riders are consistent on every day of the week. \n",
    "- The ride duration of casual riders are below 30 minutes on weekday, but ride duration rises to 30 - 35 minutes on the weekend."
   ]
  },
  {
   "cell_type": "markdown",
   "id": "23c0a019",
   "metadata": {},
   "source": [
    "## Conclusion\n",
    "---\n",
    "Through analyzing the dataset, we have come to interesting conclusion:\n",
    "- Most rides are being used by member riders. \n",
    "- Most riders prefer electric bike, and even more popular among casual riders.\n",
    "- The number of rides reach its peaks during summer (in June, July, and August). This increase is mostly caused by high number of casual rider during summer.\n",
    "- Member riders mostly rent a bike during weekday, while casual riders are mostly during weekends.\n",
    "- At 8.00 in the morning and 17.00 in the afternoon is the \"rush hour\" for member riders. For casual riders, it's more spread out from morning to afternoon, and reach its peak at 17.00 in the afternoon.\n",
    "- Casual riders spent more time riding a bike. On average, casual riders spent 28 minutes riding the bike each day, while member riders spent 12 minutes each day.\n",
    "- The riding duration for member riders is stagnant during the week, while for casual members there is a rise in ride duration during weekend."
   ]
  },
  {
   "cell_type": "markdown",
   "id": "0012c310",
   "metadata": {},
   "source": [
    "## Business Recommendation\n",
    "---\n",
    "1. Introduce Weekend Pass. The Weekend Pass is targeted to casual riders who mostly rent a bike during weekend. The Weekend Pass will have lower price point than the Annual Pass, but can only be used during Friday, Saturday, and Sunday.\n",
    "\n",
    "2. Create a reward point campaign; give user reward points which accumulated by riding duration. Since casual riders ride duration is higher than current member riders, they will benefit more from this campaign. Offer them membership discount when they reach certain points to convert them into Cyclistic's member.\n",
    "\n",
    "3. Perform strategic campaign during summer. Given the number of riders are at its annual peak in summer, we can do strategic campaign and advertising to reach more audience. "
   ]
  },
  {
   "cell_type": "markdown",
   "id": "ee48e837",
   "metadata": {},
   "source": [
    "## Future Exploration\n",
    "---\n",
    "To get more insights on Cyclistic user behavior, more data could be collected and analyzed. \n",
    "- Demographic of users, such as rider occupation and age.\n",
    "- Include data on whether a casual rider uses a single-ride pass or full-day pass. "
   ]
  },
  {
   "cell_type": "markdown",
   "id": "c4ab20c0",
   "metadata": {},
   "source": [
    "Thank you for visiting my project! 🚴‍♂️🚴‍♂️🚴‍♂️"
   ]
  }
 ],
 "metadata": {
  "kernelspec": {
   "display_name": "Python 3 (ipykernel)",
   "language": "python",
   "name": "python3"
  },
  "language_info": {
   "codemirror_mode": {
    "name": "ipython",
    "version": 3
   },
   "file_extension": ".py",
   "mimetype": "text/x-python",
   "name": "python",
   "nbconvert_exporter": "python",
   "pygments_lexer": "ipython3",
   "version": "3.9.12"
  }
 },
 "nbformat": 4,
 "nbformat_minor": 5
}
